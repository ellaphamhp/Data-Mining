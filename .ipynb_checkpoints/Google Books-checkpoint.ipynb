{
 "cells": [
  {
   "cell_type": "code",
   "execution_count": 261,
   "metadata": {},
   "outputs": [],
   "source": [
    "import numpy as np\n",
    "import pandas as pd\n",
    "import requests \n",
    "import matplotlib.pyplot as plt\n",
    "import seaborn as sns\n",
    "\n",
    "from sklearn.feature_extraction.text import CountVectorizer"
   ]
  },
  {
   "cell_type": "code",
   "execution_count": 275,
   "metadata": {},
   "outputs": [
    {
     "data": {
      "text/plain": [
       "dict"
      ]
     },
     "execution_count": 275,
     "metadata": {},
     "output_type": "execute_result"
    }
   ],
   "source": [
    "##Explore the structure of json output files\n",
    "#Define the url\n",
    "url=\"https://www.googleapis.com/books/v1/volumes?q=psychology+book&startIndex=\"+str(50)+\"&maxResults=\"+str(1)+\"&projection=lite&fields=items(volumeInfo)\"\n",
    "    \n",
    "#Query the data\n",
    "r = requests.get(url)\n",
    "json_data = r.json()\n",
    "type(json_data)"
   ]
  },
  {
   "cell_type": "code",
   "execution_count": 276,
   "metadata": {},
   "outputs": [
    {
     "name": "stdout",
     "output_type": "stream",
     "text": [
      "{'items': [{'volumeInfo': {'title': 'Psychology', 'subtitle': 'A Degree in a Book', 'authors': ['Alan Porter'], 'publisher': 'Degree in a Book', 'publishedDate': '2018', 'description': 'The perfect introduction to psychology, this title covers every major subject of psychology and every methodology. Including helpful diagrams, summary sections, ideas for further reading and questions to consider, you will soon be able to understand the differences between Freud and Jung, its relationship to neuroscience and physiology, and how psychology is used in our everyday lives.', 'readingModes': {'text': False, 'image': False}, 'maturityRating': 'NOT_MATURE', 'allowAnonLogging': False, 'contentVersion': 'preview-1.0.0', 'panelizationSummary': {'containsEpubBubbles': False, 'containsImageBubbles': False}, 'imageLinks': {'smallThumbnail': 'http://books.google.com/books/content?id=LBKqtQEACAAJ&printsec=frontcover&img=1&zoom=5&source=gbs_api', 'thumbnail': 'http://books.google.com/books/content?id=LBKqtQEACAAJ&printsec=frontcover&img=1&zoom=1&source=gbs_api'}, 'previewLink': 'http://books.google.co.uk/books?id=LBKqtQEACAAJ&dq=psychology+book&hl=&cd=51&source=gbs_api', 'infoLink': 'http://books.google.co.uk/books?id=LBKqtQEACAAJ&dq=psychology+book&hl=&source=gbs_api', 'canonicalVolumeLink': 'https://books.google.com/books/about/Psychology.html?hl=&id=LBKqtQEACAAJ'}}]}\n"
     ]
    }
   ],
   "source": [
    "#Check the structure of the data\n",
    "print(json_data)"
   ]
  },
  {
   "cell_type": "code",
   "execution_count": 279,
   "metadata": {},
   "outputs": [],
   "source": [
    "### Write Function to query a certan number of books after the start Index: \n",
    "\n",
    "def query_by_batch(startIndex, maxResults):\n",
    "    \"\"\"\n",
    "    Download book content on Google Books based on the start index and number of results per query:\n",
    "    \n",
    "    Args:\n",
    "    startIndex(int): the position to start query an interger from 1 to max length of the book list\n",
    "    maxResults: number of books to get in one request\n",
    "    \n",
    "    Returns: \n",
    "    Data Frame with 5 colums: Title, Authors, Description, Year, Avg Rating \n",
    "    \"\"\"\n",
    "   \n",
    "    #Define the url\n",
    "    url=\"https://www.googleapis.com/books/v1/volumes?q=psychology+book&startIndex=\"+str(startIndex)+\"&maxResults=\"+str(maxResults)+\"&projection=lite&fields=items(volumeInfo)\"\n",
    "    \n",
    "    #Query the data\n",
    "    r = requests.get(url)\n",
    "    json_data = r.json()\n",
    "    items_list = json_data['items']\n",
    "    \n",
    "    #Construct the table\n",
    "    title = []\n",
    "    authors = []\n",
    "    description = []\n",
    "    date = []\n",
    "    rating = []\n",
    "\n",
    "    for i in range (0, len(items_list)): \n",
    "        title.append(dict(items_list[i]['volumeInfo'])['title'])\n",
    "        for label, field in [(authors, 'authors'), (description, 'description'), (date, 'publishedDate'), (rating, 'averageRating')]:\n",
    "            if field in dict(items_list[i]['volumeInfo']).keys():\n",
    "                label.append(dict(items_list[i]['volumeInfo'])[field])  \n",
    "            else:\n",
    "                label.append('NA')\n",
    "\n",
    "    #Zip data in to data frame\n",
    "    df_book = pd.DataFrame(zip(title, authors, description, date, rating), columns = ['Title', 'Authors', 'Description', 'Date', 'Rating'])\n",
    "    \n",
    "    return df_book"
   ]
  },
  {
   "cell_type": "code",
   "execution_count": 303,
   "metadata": {},
   "outputs": [
    {
     "data": {
      "text/html": [
       "<div>\n",
       "<style scoped>\n",
       "    .dataframe tbody tr th:only-of-type {\n",
       "        vertical-align: middle;\n",
       "    }\n",
       "\n",
       "    .dataframe tbody tr th {\n",
       "        vertical-align: top;\n",
       "    }\n",
       "\n",
       "    .dataframe thead th {\n",
       "        text-align: right;\n",
       "    }\n",
       "</style>\n",
       "<table border=\"1\" class=\"dataframe\">\n",
       "  <thead>\n",
       "    <tr style=\"text-align: right;\">\n",
       "      <th></th>\n",
       "      <th>Title</th>\n",
       "      <th>Authors</th>\n",
       "      <th>Description</th>\n",
       "      <th>Date</th>\n",
       "      <th>Rating</th>\n",
       "    </tr>\n",
       "  </thead>\n",
       "  <tbody>\n",
       "    <tr>\n",
       "      <th>0</th>\n",
       "      <td>Educational Psychology</td>\n",
       "      <td>[L.S. Vygotsky]</td>\n",
       "      <td>When this classic book was first published in ...</td>\n",
       "      <td>1997-08-11</td>\n",
       "      <td>NA</td>\n",
       "    </tr>\n",
       "    <tr>\n",
       "      <th>1</th>\n",
       "      <td>Science Fiction and Psychology</td>\n",
       "      <td>[Gavin Miller]</td>\n",
       "      <td>The psychologist may appear in science fiction...</td>\n",
       "      <td>2020-01-31</td>\n",
       "      <td>NA</td>\n",
       "    </tr>\n",
       "  </tbody>\n",
       "</table>\n",
       "</div>"
      ],
      "text/plain": [
       "                            Title          Authors  \\\n",
       "0          Educational Psychology  [L.S. Vygotsky]   \n",
       "1  Science Fiction and Psychology   [Gavin Miller]   \n",
       "\n",
       "                                         Description        Date Rating  \n",
       "0  When this classic book was first published in ...  1997-08-11     NA  \n",
       "1  The psychologist may appear in science fiction...  2020-01-31     NA  "
      ]
     },
     "execution_count": 303,
     "metadata": {},
     "output_type": "execute_result"
    }
   ],
   "source": [
    "#Let's see if the function works:\n",
    "query_by_batch(5, 2)"
   ]
  },
  {
   "cell_type": "code",
   "execution_count": 297,
   "metadata": {},
   "outputs": [],
   "source": [
    "startIndex = np.arange(0, 520, 40)"
   ]
  },
  {
   "cell_type": "code",
   "execution_count": 298,
   "metadata": {},
   "outputs": [
    {
     "name": "stdout",
     "output_type": "stream",
     "text": [
      "[  0  40  80 120 160 200 240 280 320 360 400 440 480]\n"
     ]
    }
   ],
   "source": [
    "print(startIndex)"
   ]
  },
  {
   "cell_type": "code",
   "execution_count": 299,
   "metadata": {},
   "outputs": [],
   "source": [
    "#Query all database: \n",
    "df_all = pd.DataFrame(columns=['Title', 'Authors', 'Description', 'Date', 'Rating'])\n",
    "\n",
    "for i in startIndex:\n",
    "    df_all = pd.concat([df_all, query_by_batch(i, 40)], axis=0)"
   ]
  },
  {
   "cell_type": "code",
   "execution_count": 300,
   "metadata": {},
   "outputs": [
    {
     "name": "stdout",
     "output_type": "stream",
     "text": [
      "<class 'pandas.core.frame.DataFrame'>\n",
      "Int64Index: 520 entries, 0 to 39\n",
      "Data columns (total 5 columns):\n",
      " #   Column       Non-Null Count  Dtype \n",
      "---  ------       --------------  ----- \n",
      " 0   Title        520 non-null    object\n",
      " 1   Authors      520 non-null    object\n",
      " 2   Description  520 non-null    object\n",
      " 3   Date         520 non-null    object\n",
      " 4   Rating       520 non-null    object\n",
      "dtypes: object(5)\n",
      "memory usage: 24.4+ KB\n"
     ]
    }
   ],
   "source": [
    "df_all.info()"
   ]
  },
  {
   "cell_type": "code",
   "execution_count": 306,
   "metadata": {},
   "outputs": [
    {
     "data": {
      "text/html": [
       "<div>\n",
       "<style scoped>\n",
       "    .dataframe tbody tr th:only-of-type {\n",
       "        vertical-align: middle;\n",
       "    }\n",
       "\n",
       "    .dataframe tbody tr th {\n",
       "        vertical-align: top;\n",
       "    }\n",
       "\n",
       "    .dataframe thead th {\n",
       "        text-align: right;\n",
       "    }\n",
       "</style>\n",
       "<table border=\"1\" class=\"dataframe\">\n",
       "  <thead>\n",
       "    <tr style=\"text-align: right;\">\n",
       "      <th></th>\n",
       "      <th>Title</th>\n",
       "      <th>Authors</th>\n",
       "      <th>Description</th>\n",
       "      <th>Date</th>\n",
       "      <th>Rating</th>\n",
       "    </tr>\n",
       "  </thead>\n",
       "  <tbody>\n",
       "    <tr>\n",
       "      <th>0</th>\n",
       "      <td>The Psychology Book</td>\n",
       "      <td>[DK]</td>\n",
       "      <td>All the big ideas, simply explained - an innov...</td>\n",
       "      <td>2015-02-02</td>\n",
       "      <td>NA</td>\n",
       "    </tr>\n",
       "    <tr>\n",
       "      <th>1</th>\n",
       "      <td>Little Book of Psychology</td>\n",
       "      <td>[Emily Ralls, Caroline Riggs]</td>\n",
       "      <td>If you want to know your Freud from your Jung ...</td>\n",
       "      <td>2019-06-13</td>\n",
       "      <td>NA</td>\n",
       "    </tr>\n",
       "    <tr>\n",
       "      <th>2</th>\n",
       "      <td>Introduction to Psychology</td>\n",
       "      <td>[Lionel Nicholas]</td>\n",
       "      <td>Presents an overview of the latest information...</td>\n",
       "      <td>2009-04</td>\n",
       "      <td>NA</td>\n",
       "    </tr>\n",
       "    <tr>\n",
       "      <th>3</th>\n",
       "      <td>The Everything Psychology Book</td>\n",
       "      <td>[Kendra Cherry, Paul G Mattiuzzi]</td>\n",
       "      <td>There's nothing more fascinating-- or frighten...</td>\n",
       "      <td>2010-11-16</td>\n",
       "      <td>NA</td>\n",
       "    </tr>\n",
       "    <tr>\n",
       "      <th>4</th>\n",
       "      <td>Counselling Psychology</td>\n",
       "      <td>[David Murphy]</td>\n",
       "      <td>Published on behalf by the British Psychologic...</td>\n",
       "      <td>2017-09-25</td>\n",
       "      <td>NA</td>\n",
       "    </tr>\n",
       "  </tbody>\n",
       "</table>\n",
       "</div>"
      ],
      "text/plain": [
       "                            Title                            Authors  \\\n",
       "0             The Psychology Book                               [DK]   \n",
       "1       Little Book of Psychology      [Emily Ralls, Caroline Riggs]   \n",
       "2      Introduction to Psychology                  [Lionel Nicholas]   \n",
       "3  The Everything Psychology Book  [Kendra Cherry, Paul G Mattiuzzi]   \n",
       "4          Counselling Psychology                     [David Murphy]   \n",
       "\n",
       "                                         Description        Date Rating  \n",
       "0  All the big ideas, simply explained - an innov...  2015-02-02     NA  \n",
       "1  If you want to know your Freud from your Jung ...  2019-06-13     NA  \n",
       "2  Presents an overview of the latest information...     2009-04     NA  \n",
       "3  There's nothing more fascinating-- or frighten...  2010-11-16     NA  \n",
       "4  Published on behalf by the British Psychologic...  2017-09-25     NA  "
      ]
     },
     "execution_count": 306,
     "metadata": {},
     "output_type": "execute_result"
    }
   ],
   "source": [
    "df_all.head()"
   ]
  },
  {
   "cell_type": "code",
   "execution_count": 316,
   "metadata": {},
   "outputs": [],
   "source": [
    "df_all.to_csv('Google Books.csv')"
   ]
  }
 ],
 "metadata": {
  "kernelspec": {
   "display_name": "Python 3",
   "language": "python",
   "name": "python3"
  },
  "language_info": {
   "codemirror_mode": {
    "name": "ipython",
    "version": 3
   },
   "file_extension": ".py",
   "mimetype": "text/x-python",
   "name": "python",
   "nbconvert_exporter": "python",
   "pygments_lexer": "ipython3",
   "version": "3.7.6"
  }
 },
 "nbformat": 4,
 "nbformat_minor": 4
}
